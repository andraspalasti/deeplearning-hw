{
  "cells": [
    {
      "cell_type": "markdown",
      "metadata": {
        "id": "xHj5N-QTjkRm"
      },
      "source": [
        "## Setting up in colab"
      ]
    },
    {
      "cell_type": "code",
      "execution_count": 1,
      "metadata": {
        "colab": {
          "base_uri": "https://localhost:8080/"
        },
        "id": "Kz41FMmM3JK2",
        "outputId": "8d7f22e8-16c6-4844-d612-3795a710b892"
      },
      "outputs": [
        {
          "output_type": "stream",
          "name": "stdout",
          "text": [
            "Cloning into 'deeplearning-hw'...\n",
            "remote: Enumerating objects: 191, done.\u001b[K\n",
            "remote: Counting objects: 100% (191/191), done.\u001b[K\n",
            "remote: Compressing objects: 100% (128/128), done.\u001b[K\n",
            "remote: Total 191 (delta 86), reused 149 (delta 49), pack-reused 0\u001b[K\n",
            "Receiving objects: 100% (191/191), 6.14 MiB | 9.75 MiB/s, done.\n",
            "Resolving deltas: 100% (86/86), done.\n",
            "\u001b[2K     \u001b[90m━━━━━━━━━━━━━━━━━━━━━━━━━━━━━━━━━━━━━━━━\u001b[0m \u001b[32m2.1/2.1 MB\u001b[0m \u001b[31m13.3 MB/s\u001b[0m eta \u001b[36m0:00:00\u001b[0m\n",
            "\u001b[2K     \u001b[90m━━━━━━━━━━━━━━━━━━━━━━━━━━━━━━━━━━━━━━━━\u001b[0m \u001b[32m190.6/190.6 kB\u001b[0m \u001b[31m19.5 MB/s\u001b[0m eta \u001b[36m0:00:00\u001b[0m\n",
            "\u001b[2K     \u001b[90m━━━━━━━━━━━━━━━━━━━━━━━━━━━━━━━━━━━━━━━━\u001b[0m \u001b[32m251.7/251.7 kB\u001b[0m \u001b[31m25.6 MB/s\u001b[0m eta \u001b[36m0:00:00\u001b[0m\n",
            "\u001b[2K     \u001b[90m━━━━━━━━━━━━━━━━━━━━━━━━━━━━━━━━━━━━━━━━\u001b[0m \u001b[32m62.7/62.7 kB\u001b[0m \u001b[31m8.1 MB/s\u001b[0m eta \u001b[36m0:00:00\u001b[0m\n",
            "\u001b[?25h"
          ]
        }
      ],
      "source": [
        "# Cloning repository into current folder\n",
        "!rm -rf notebooks src requirements.txt README.md\n",
        "!git clone https://github.com/andraspalasti/deeplearning-hw.git\n",
        "!mv deeplearning-hw/* .\n",
        "!rm -rf deeplearning-hw/\n",
        "\n",
        "# Install the packages used\n",
        "%pip install -q -r requirements.txt\n",
        "%pip install -q gdown"
      ]
    },
    {
      "cell_type": "code",
      "execution_count": 2,
      "metadata": {
        "colab": {
          "base_uri": "https://localhost:8080/"
        },
        "id": "f6b92Pse3WXO",
        "outputId": "8e247eae-9ef2-4150-c588-67bf67c09c0b"
      },
      "outputs": [
        {
          "output_type": "stream",
          "name": "stdout",
          "text": [
            "Downloading...\n",
            "From: https://drive.google.com/uc?id=1V-oxFZhctefBXL4noEgNG-ENaHoszTJE\n",
            "To: /content/airbus-dataset.zip\n",
            "100% 8.88G/8.88G [02:36<00:00, 56.6MB/s]\n"
          ]
        }
      ],
      "source": [
        "# Download data from google drive\n",
        "!gdown 'https://drive.google.com/uc?id=1V-oxFZhctefBXL4noEgNG-ENaHoszTJE'"
      ]
    },
    {
      "cell_type": "code",
      "execution_count": 3,
      "metadata": {
        "id": "mmuyOdYK3X3G"
      },
      "outputs": [],
      "source": [
        "!unzip -q airbus-dataset.zip"
      ]
    },
    {
      "cell_type": "markdown",
      "metadata": {
        "id": "ntcMR2bOjkRq"
      },
      "source": [
        "## Training the model"
      ]
    },
    {
      "cell_type": "code",
      "execution_count": 4,
      "metadata": {
        "id": "dx_mXxGL4btT"
      },
      "outputs": [],
      "source": [
        "import os\n",
        "from pathlib import Path\n",
        "import torch\n",
        "from torch.utils.data import DataLoader\n",
        "\n",
        "from src.train import train_model\n",
        "from src.unet import UNet\n",
        "from src.data.datasets import AirbusDataset, AirbusTrainingset"
      ]
    },
    {
      "cell_type": "code",
      "source": [
        "# Determine where to save checkpoints\n",
        "try:\n",
        "    from google.colab import drive\n",
        "    drive.mount('/content/gdrive')\n",
        "    checkpoint_dir = Path('/content/gdrive/MyDrive/checkpoints')\n",
        "except:\n",
        "    checkpoint_dir = Path('checkpoints')"
      ],
      "metadata": {
        "colab": {
          "base_uri": "https://localhost:8080/"
        },
        "id": "WZB0P4AnX5qB",
        "outputId": "b09a08c1-9ec9-4d62-c537-6557e3c6f10c"
      },
      "execution_count": 5,
      "outputs": [
        {
          "output_type": "stream",
          "name": "stdout",
          "text": [
            "Mounted at /content/gdrive\n"
          ]
        }
      ]
    },
    {
      "cell_type": "code",
      "execution_count": 6,
      "metadata": {
        "id": "rmdGcBHV48A9"
      },
      "outputs": [],
      "source": [
        "# Create datasets and loaders\n",
        "data_dir = Path('data/processed')\n",
        "\n",
        "val_set = AirbusDataset(data_dir / 'val_ship_segmentations.csv', data_dir / 'val', should_contain_ship=True)\n",
        "train_set = AirbusTrainingset(data_dir / 'train_ship_segmentations.csv', data_dir / 'train')\n",
        "\n",
        "loader_args = dict(\n",
        "    batch_size=20,\n",
        "    num_workers=os.cpu_count(),\n",
        "    pin_memory=True,\n",
        "    generator=torch.Generator().manual_seed(42) # So we have the same shuffling through each training\n",
        ")\n",
        "train_loader = DataLoader(train_set, shuffle=True, **loader_args)\n",
        "val_loader = DataLoader(val_set, shuffle=False, **loader_args)"
      ]
    },
    {
      "cell_type": "code",
      "execution_count": 7,
      "metadata": {
        "colab": {
          "base_uri": "https://localhost:8080/"
        },
        "id": "wRo0exWg5wME",
        "outputId": "174fe32d-dd8d-4db3-f55f-55db87d867ec"
      },
      "outputs": [
        {
          "output_type": "stream",
          "name": "stdout",
          "text": [
            "Using device cuda\n"
          ]
        }
      ],
      "source": [
        "# Create device to run training on (if available use gpu)\n",
        "device = torch.device('cuda' if torch.cuda.is_available() else 'cpu')\n",
        "print(f'Using device {device}')"
      ]
    },
    {
      "cell_type": "code",
      "execution_count": 8,
      "metadata": {
        "colab": {
          "base_uri": "https://localhost:8080/"
        },
        "id": "J58COCj36bcF",
        "outputId": "16acafaa-1b74-425f-cf35-29c3de305bac"
      },
      "outputs": [
        {
          "output_type": "stream",
          "name": "stdout",
          "text": [
            "Network:\n",
            "\t3 input channels\n",
            "\t1 output channels (classes)\n",
            "\tTransposed conv upscaling\n"
          ]
        }
      ],
      "source": [
        "# Create model\n",
        "model = UNet(n_channels=3, n_classes=1)\n",
        "model = model.to(device)\n",
        "print(f'Network:\\n'\n",
        "    f'\\t{model.n_channels} input channels\\n'\n",
        "    f'\\t{model.n_classes} output channels (classes)\\n'\n",
        "    f'\\t{\"Bilinear\" if model.bilinear else \"Transposed conv\"} upscaling')"
      ]
    },
    {
      "cell_type": "code",
      "source": [
        "# If you want you can load in previous models\n",
        "load = Path('/content/gdrive/MyDrive/checkpoints/solar-cherry-34/checkpoint_epoch2.pth')\n",
        "if load:\n",
        "    state_dict = torch.load(load, map_location=device)\n",
        "    if 'learning_rate' in state_dict:\n",
        "        learning_rate = state_dict['learning_rate']\n",
        "        del state_dict['learning_rate']\n",
        "    model.load_state_dict(state_dict)\n",
        "    print(f'Successfully loaded model from {load} with lr: {learning_rate}')\n",
        "else:\n",
        "    learning_rate = 0.0001"
      ],
      "metadata": {
        "colab": {
          "base_uri": "https://localhost:8080/"
        },
        "id": "HRLQ6Bb52WKh",
        "outputId": "4af40203-0fcf-4549-9383-ac4b15a8425e"
      },
      "execution_count": 9,
      "outputs": [
        {
          "output_type": "stream",
          "name": "stdout",
          "text": [
            "Successfully loaded model from /content/gdrive/MyDrive/checkpoints/solar-cherry-34/checkpoint_epoch2.pth with lr: 0.0001\n"
          ]
        }
      ]
    },
    {
      "cell_type": "code",
      "source": [
        "!wandb login --relogin"
      ],
      "metadata": {
        "colab": {
          "base_uri": "https://localhost:8080/"
        },
        "id": "liF7egqBQCbN",
        "outputId": "48914774-c7d8-4980-94e0-f1c03f50bbe2"
      },
      "execution_count": 10,
      "outputs": [
        {
          "output_type": "stream",
          "name": "stdout",
          "text": [
            "\u001b[34m\u001b[1mwandb\u001b[0m: Logging into wandb.ai. (Learn how to deploy a W&B server locally: https://wandb.me/wandb-server)\n",
            "\u001b[34m\u001b[1mwandb\u001b[0m: You can find your API key in your browser here: https://wandb.ai/authorize\n",
            "\u001b[34m\u001b[1mwandb\u001b[0m: Paste an API key from your profile and hit enter, or press ctrl+c to quit: \n",
            "\u001b[34m\u001b[1mwandb\u001b[0m: Appending key for api.wandb.ai to your netrc file: /root/.netrc\n"
          ]
        }
      ]
    },
    {
      "cell_type": "code",
      "execution_count": 11,
      "metadata": {
        "colab": {
          "base_uri": "https://localhost:8080/",
          "height": 902
        },
        "id": "pz0xG9Bl6q2_",
        "outputId": "47039d95-c0a0-49ad-e192-736b51378fb6"
      },
      "outputs": [
        {
          "output_type": "stream",
          "name": "stderr",
          "text": [
            "\u001b[34m\u001b[1mwandb\u001b[0m: Currently logged in as: \u001b[33mandraspalasti2\u001b[0m. Use \u001b[1m`wandb login --relogin`\u001b[0m to force relogin\n"
          ]
        },
        {
          "output_type": "display_data",
          "data": {
            "text/plain": [
              "<IPython.core.display.HTML object>"
            ],
            "text/html": [
              "Tracking run with wandb version 0.16.0"
            ]
          },
          "metadata": {}
        },
        {
          "output_type": "display_data",
          "data": {
            "text/plain": [
              "<IPython.core.display.HTML object>"
            ],
            "text/html": [
              "Run data is saved locally in <code>/content/wandb/run-20231126_090432-n9gl01x6</code>"
            ]
          },
          "metadata": {}
        },
        {
          "output_type": "display_data",
          "data": {
            "text/plain": [
              "<IPython.core.display.HTML object>"
            ],
            "text/html": [
              "Syncing run <strong><a href='https://wandb.ai/andraspalasti2/U-Net/runs/n9gl01x6' target=\"_blank\">woven-thunder-35</a></strong> to <a href='https://wandb.ai/andraspalasti2/U-Net' target=\"_blank\">Weights & Biases</a> (<a href='https://wandb.me/run' target=\"_blank\">docs</a>)<br/>"
            ]
          },
          "metadata": {}
        },
        {
          "output_type": "display_data",
          "data": {
            "text/plain": [
              "<IPython.core.display.HTML object>"
            ],
            "text/html": [
              " View project at <a href='https://wandb.ai/andraspalasti2/U-Net' target=\"_blank\">https://wandb.ai/andraspalasti2/U-Net</a>"
            ]
          },
          "metadata": {}
        },
        {
          "output_type": "display_data",
          "data": {
            "text/plain": [
              "<IPython.core.display.HTML object>"
            ],
            "text/html": [
              " View run at <a href='https://wandb.ai/andraspalasti2/U-Net/runs/n9gl01x6' target=\"_blank\">https://wandb.ai/andraspalasti2/U-Net/runs/n9gl01x6</a>"
            ]
          },
          "metadata": {}
        },
        {
          "output_type": "stream",
          "name": "stdout",
          "text": [
            "Starting training:\n",
            "        Epochs:          3\n",
            "        Batch size:      20\n",
            "        Learning rate:   0.0001\n",
            "        Training size:   88997\n",
            "        Validation size: 3982\n",
            "        Device:          cuda\n",
            "        Mixed Precision: True\n",
            "    \n"
          ]
        },
        {
          "output_type": "stream",
          "name": "stderr",
          "text": []
        },
        {
          "output_type": "stream",
          "name": "stdout",
          "text": [
            "Validation Dice score: 0.6542448401451111\n"
          ]
        },
        {
          "output_type": "stream",
          "name": "stderr",
          "text": []
        },
        {
          "output_type": "stream",
          "name": "stdout",
          "text": [
            "Validation Dice score: 0.5747670531272888\n"
          ]
        },
        {
          "output_type": "stream",
          "name": "stderr",
          "text": []
        },
        {
          "output_type": "stream",
          "name": "stdout",
          "text": [
            "Validation Dice score: 0.6245277523994446\n"
          ]
        },
        {
          "output_type": "stream",
          "name": "stderr",
          "text": []
        },
        {
          "output_type": "stream",
          "name": "stdout",
          "text": [
            "Validation Dice score: 0.6295183897018433\n"
          ]
        },
        {
          "output_type": "stream",
          "name": "stderr",
          "text": []
        },
        {
          "output_type": "stream",
          "name": "stdout",
          "text": [
            "Validation Dice score: 0.6167723536491394\n"
          ]
        },
        {
          "output_type": "stream",
          "name": "stderr",
          "text": []
        },
        {
          "output_type": "stream",
          "name": "stdout",
          "text": [
            "Validation Dice score: 0.6032523512840271\n"
          ]
        },
        {
          "output_type": "stream",
          "name": "stderr",
          "text": []
        },
        {
          "output_type": "stream",
          "name": "stdout",
          "text": [
            "Validation Dice score: 0.6490146517753601\n"
          ]
        },
        {
          "output_type": "stream",
          "name": "stderr",
          "text": []
        },
        {
          "output_type": "stream",
          "name": "stdout",
          "text": [
            "Validation Dice score: 0.6574696898460388\n"
          ]
        },
        {
          "output_type": "stream",
          "name": "stderr",
          "text": []
        },
        {
          "output_type": "stream",
          "name": "stdout",
          "text": [
            "Validation Dice score: 0.6647867560386658\n"
          ]
        },
        {
          "output_type": "stream",
          "name": "stderr",
          "text": [
            "Epoch 1/3: 89000img [47:48, 31.03img/s, loss (batch)=0.133]\n"
          ]
        },
        {
          "output_type": "stream",
          "name": "stdout",
          "text": [
            "Validation Dice score: 0.6718677878379822\n",
            "Checkpoint 1 saved!\n"
          ]
        },
        {
          "output_type": "stream",
          "name": "stderr",
          "text": []
        },
        {
          "output_type": "stream",
          "name": "stdout",
          "text": [
            "Validation Dice score: 0.6592105627059937\n"
          ]
        },
        {
          "output_type": "stream",
          "name": "stderr",
          "text": []
        },
        {
          "output_type": "stream",
          "name": "stdout",
          "text": [
            "Validation Dice score: 0.6722691059112549\n"
          ]
        },
        {
          "output_type": "stream",
          "name": "stderr",
          "text": []
        },
        {
          "output_type": "stream",
          "name": "stdout",
          "text": [
            "Validation Dice score: 0.6742385029792786\n"
          ]
        },
        {
          "output_type": "stream",
          "name": "stderr",
          "text": []
        },
        {
          "output_type": "stream",
          "name": "stdout",
          "text": [
            "Validation Dice score: 0.6690824627876282\n"
          ]
        },
        {
          "output_type": "stream",
          "name": "stderr",
          "text": []
        },
        {
          "output_type": "stream",
          "name": "stdout",
          "text": [
            "Validation Dice score: 0.6698282957077026\n"
          ]
        },
        {
          "output_type": "stream",
          "name": "stderr",
          "text": []
        },
        {
          "output_type": "stream",
          "name": "stdout",
          "text": [
            "Validation Dice score: 0.6722084879875183\n"
          ]
        },
        {
          "output_type": "stream",
          "name": "stderr",
          "text": []
        },
        {
          "output_type": "stream",
          "name": "stdout",
          "text": [
            "Validation Dice score: 0.6721780896186829\n"
          ]
        },
        {
          "output_type": "stream",
          "name": "stderr",
          "text": []
        },
        {
          "output_type": "stream",
          "name": "stdout",
          "text": [
            "Validation Dice score: 0.6698583364486694\n"
          ]
        },
        {
          "output_type": "stream",
          "name": "stderr",
          "text": []
        },
        {
          "output_type": "stream",
          "name": "stdout",
          "text": [
            "Validation Dice score: 0.677624523639679\n"
          ]
        },
        {
          "output_type": "stream",
          "name": "stderr",
          "text": []
        },
        {
          "output_type": "stream",
          "name": "stdout",
          "text": [
            "Validation Dice score: 0.6791423559188843\n"
          ]
        },
        {
          "output_type": "stream",
          "name": "stderr",
          "text": [
            "\rEpoch 2/3: 89000img [47:44, 31.07img/s, loss (batch)=0.125]\n"
          ]
        },
        {
          "output_type": "stream",
          "name": "stdout",
          "text": [
            "Checkpoint 2 saved!\n"
          ]
        },
        {
          "output_type": "stream",
          "name": "stderr",
          "text": []
        },
        {
          "output_type": "stream",
          "name": "stdout",
          "text": [
            "Validation Dice score: 0.6775093078613281\n"
          ]
        },
        {
          "output_type": "stream",
          "name": "stderr",
          "text": []
        },
        {
          "output_type": "stream",
          "name": "stdout",
          "text": [
            "Validation Dice score: 0.6859358549118042\n"
          ]
        },
        {
          "output_type": "stream",
          "name": "stderr",
          "text": []
        },
        {
          "output_type": "stream",
          "name": "stdout",
          "text": [
            "Validation Dice score: 0.6749242544174194\n"
          ]
        },
        {
          "output_type": "stream",
          "name": "stderr",
          "text": []
        },
        {
          "output_type": "stream",
          "name": "stdout",
          "text": [
            "Validation Dice score: 0.6667897701263428\n"
          ]
        },
        {
          "output_type": "stream",
          "name": "stderr",
          "text": []
        },
        {
          "output_type": "stream",
          "name": "stdout",
          "text": [
            "Validation Dice score: 0.6808034181594849\n"
          ]
        },
        {
          "output_type": "stream",
          "name": "stderr",
          "text": []
        },
        {
          "output_type": "stream",
          "name": "stdout",
          "text": [
            "Validation Dice score: 0.676139235496521\n"
          ]
        },
        {
          "output_type": "stream",
          "name": "stderr",
          "text": []
        },
        {
          "output_type": "stream",
          "name": "stdout",
          "text": [
            "Validation Dice score: 0.6819992065429688\n"
          ]
        },
        {
          "output_type": "stream",
          "name": "stderr",
          "text": []
        },
        {
          "output_type": "stream",
          "name": "stdout",
          "text": [
            "Validation Dice score: 0.6719774007797241\n"
          ]
        },
        {
          "output_type": "stream",
          "name": "stderr",
          "text": []
        },
        {
          "output_type": "stream",
          "name": "stdout",
          "text": [
            "Validation Dice score: 0.6788261532783508\n"
          ]
        },
        {
          "output_type": "stream",
          "name": "stderr",
          "text": [
            "Epoch 3/3: 89000img [47:46, 31.05img/s, loss (batch)=0.119]\n"
          ]
        },
        {
          "output_type": "stream",
          "name": "stdout",
          "text": [
            "Validation Dice score: 0.6889224052429199\n",
            "Checkpoint 3 saved!\n"
          ]
        }
      ],
      "source": [
        "try:\n",
        "    train_model(\n",
        "        model,\n",
        "        device,\n",
        "        train_loader,\n",
        "        val_loader,\n",
        "        learning_rate=0.0001,\n",
        "        epochs=3,\n",
        "        checkpoint_dir=checkpoint_dir,\n",
        "        amp=True,\n",
        "    )\n",
        "except torch.cuda.OutOfMemoryError:\n",
        "    torch.cuda.empty_cache()\n",
        "    print('Detected OutOfMemoryError!')"
      ]
    }
  ],
  "metadata": {
    "accelerator": "GPU",
    "colab": {
      "gpuType": "T4",
      "provenance": []
    },
    "kernelspec": {
      "display_name": "Python 3",
      "name": "python3"
    },
    "language_info": {
      "codemirror_mode": {
        "name": "ipython",
        "version": 3
      },
      "file_extension": ".py",
      "mimetype": "text/x-python",
      "name": "python",
      "nbconvert_exporter": "python",
      "pygments_lexer": "ipython3",
      "version": "3.11.6"
    }
  },
  "nbformat": 4,
  "nbformat_minor": 0
}